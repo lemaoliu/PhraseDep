{
 "metadata": {
  "name": ""
 },
 "nbformat": 3,
 "nbformat_minor": 0,
 "worksheets": [
  {
   "cells": [
    {
     "cell_type": "code",
     "collapsed": false,
     "input": [
      "DIR = \"~lingpenk/final/\"\n",
      "CODE = \"~/Projects/PhraseDep/src/\"\n",
      "EVAL = \"~/Projects/PhraseDep/evalb/\"\n",
      "MODEL = \"/home/lingpenk/final_sys_english_jack/model\"\n",
      "RULES = \"/home/lingpenk/final_sys_english_jack/rules\"\n",
      "PARTS = \"/home/lingpenk/final_sys_english_jack/parts\""
     ],
     "language": "python",
     "outputs": [],
     "prompt_number": 382
    },
    {
     "cell_type": "code",
     "collapsed": false,
     "input": [
      "!ls -l /tmp/output2"
     ],
     "language": "python",
     "outputs": [
      {
       "output_type": "stream",
       "stream": "stdout",
       "text": [
        "-rw-rw-r-- 1 srush srush 734143 Nov 30 20:48 /tmp/output2\r\n"
       ]
      }
     ],
     "prompt_number": 208
    },
    {
     "cell_type": "code",
     "collapsed": false,
     "input": [
      "!ls -l {DIR}"
     ],
     "language": "python",
     "outputs": [],
     "prompt_number": "*"
    },
    {
     "cell_type": "code",
     "collapsed": false,
     "input": [
      "!{CODE}/parser --sentence {DIR}/simple_headrule/parts --sentence_test  {DIR}/jack_proj_dev_full_labeled_tbttagged_parts --model /tmp/simple_noprune  --grammar {DIR}/simple_headrule/rules --simple_features   --test   --items > /tmp/output_full_items  "
     ],
     "language": "python",
     "outputs": [
      {
       "output_type": "stream",
       "stream": "stdout",
       "text": [
        "start 1700\r\n"
       ]
      },
      {
       "output_type": "stream",
       "stream": "stdout",
       "text": [
        "FAIL\r\n"
       ]
      },
      {
       "output_type": "stream",
       "stream": "stdout",
       "text": [
        "FAIL\r\n"
       ]
      },
      {
       "output_type": "stream",
       "stream": "stdout",
       "text": [
        "FAIL\r\n"
       ]
      },
      {
       "output_type": "stream",
       "stream": "stdout",
       "text": [
        "FAIL\r\n"
       ]
      },
      {
       "output_type": "stream",
       "stream": "stdout",
       "text": [
        "(15.9148)\r\n",
        "2520.73\r\n",
        "106.819\r\n"
       ]
      }
     ],
     "prompt_number": 303
    },
    {
     "cell_type": "code",
     "collapsed": false,
     "input": [
      "# SIMPLE FULL\n",
      "!{CODE}/parser --sentence {PARTS} --sentence_test  {DIR}/jack_proj_dev_full_labeled_tbttagged_parts --model {MODEL}  --grammar {RULES} --simple_features   --test   > /tmp/output_full"
     ],
     "language": "python",
     "outputs": [
      {
       "output_type": "stream",
       "stream": "stdout",
       "text": [
        "start 1700\r\n"
       ]
      },
      {
       "output_type": "stream",
       "stream": "stdout",
       "text": [
        "(22.3931)\r\n",
        "1791.49\r\n",
        "75.9161\r\n"
       ]
      }
     ],
     "prompt_number": 390
    },
    {
     "cell_type": "code",
     "collapsed": false,
     "input": [
      "# SIMPLE PRUNE\n",
      "!{CODE}/parser --sentence {PARTS} --sentence_test  {DIR}/jack_proj_dev_full_labeled_tbttagged_parts --model {MODEL}  --grammar {RULES} --simple_features   --test    > /tmp/output_prune"
     ],
     "language": "python",
     "outputs": [
      {
       "output_type": "stream",
       "stream": "stdout",
       "text": [
        "start 1700\r\n"
       ]
      },
      {
       "output_type": "stream",
       "stream": "stdout",
       "text": [
        "(22.204)\r\n",
        "1806.75\r\n",
        "76.5629\r\n"
       ]
      }
     ],
     "prompt_number": 368
    },
    {
     "cell_type": "code",
     "collapsed": false,
     "input": [
      "# !gprof {CODE}/parser"
     ],
     "language": "python",
     "outputs": [],
     "prompt_number": 148
    },
    {
     "cell_type": "code",
     "collapsed": false,
     "input": [],
     "language": "python",
     "outputs": []
    },
    {
     "cell_type": "code",
     "collapsed": false,
     "input": [
      "v = [map(int, l.split()[1:]) for l in open(\"/tmp/stats_clean\")]"
     ],
     "language": "python",
     "outputs": [],
     "prompt_number": 238
    },
    {
     "cell_type": "code",
     "collapsed": false,
     "input": [],
     "language": "python",
     "outputs": [],
     "prompt_number": 237
    },
    {
     "cell_type": "code",
     "collapsed": false,
     "input": [
      "!{CODE}/parser --sentence {DIR}/simple_headrule/parts --sentence_test  {DIR}/jack_proj_dev_full_labeled_tbttagged_parts --model /tmp/simple_noprune --simple_features  --grammar {DIR}/simple_headrule/rules   --test > /tmp/output 2> /tmp/stats_full"
     ],
     "language": "python",
     "outputs": [],
     "prompt_number": "*"
    },
    {
     "cell_type": "code",
     "collapsed": false,
     "input": [
      "!tail /tmp/stats"
     ],
     "language": "python",
     "outputs": [],
     "prompt_number": "*"
    },
    {
     "cell_type": "code",
     "collapsed": false,
     "input": [
      "!{CODE}/parser --sentence {DIR}/simple_headrule/parts --sentence_test  {DIR}/jack_proj_dev_full_labeled_tbttagged_parts --model /tmp/simple_noprune --simple_features  --grammar {DIR}/simple_headrule/rules   --test --pruning --dir_pruning > /tmp/output 2> /tmp/stats"
     ],
     "language": "python",
     "outputs": [],
     "prompt_number": 243
    },
    {
     "cell_type": "code",
     "collapsed": false,
     "input": [
      "!grep STATS /tmp/stats > /tmp/stats_clean"
     ],
     "language": "python",
     "outputs": []
    },
    {
     "cell_type": "code",
     "collapsed": false,
     "input": [
      "!{CODE}/parser --sentence {DIR}/simple_headrule/parts --sentence_test  {DIR}/jack_proj_dev_full_labeled_tbttagged_parts --model {DIR}/simple_headrule/model5  --grammar {DIR}/simple_headrule/rules   --test  > /tmp/output2"
     ],
     "language": "python",
     "outputs": [
      {
       "output_type": "stream",
       "stream": "stdout",
       "text": [
        "start 1700\r\n"
       ]
      },
      {
       "output_type": "stream",
       "stream": "stdout",
       "text": [
        "FAIL\r\n"
       ]
      },
      {
       "output_type": "stream",
       "stream": "stdout",
       "text": [
        "FAIL\r\n"
       ]
      },
      {
       "output_type": "stream",
       "stream": "stdout",
       "text": [
        "FAIL\r\n"
       ]
      },
      {
       "output_type": "stream",
       "stream": "stdout",
       "text": [
        "FAIL\r\n"
       ]
      },
      {
       "output_type": "stream",
       "stream": "stdout",
       "text": [
        "FAIL\r\n"
       ]
      },
      {
       "output_type": "stream",
       "stream": "stdout",
       "text": [
        "FAIL\r\n"
       ]
      },
      {
       "output_type": "stream",
       "stream": "stdout",
       "text": [
        "FAIL\r\n",
        "FAIL\r\n"
       ]
      },
      {
       "output_type": "stream",
       "stream": "stdout",
       "text": [
        "(21.8499)\r\n",
        "1836.02\r\n",
        "77.8034\r\n"
       ]
      }
     ],
     "prompt_number": 387
    },
    {
     "cell_type": "code",
     "collapsed": false,
     "input": [],
     "language": "python",
     "outputs": []
    },
    {
     "cell_type": "code",
     "collapsed": false,
     "input": [
      "!{CODE}/parser --pruning --sentence {DIR}/simple_headrule/parts --sentence_test  {DIR}/jack_proj_dev_full_labeled_tbttagged_parts --model {DIR}/simple_headrule/model5  --grammar {DIR}/simple_headrule/rules   --test   > /tmp/output3"
     ],
     "language": "python",
     "outputs": [
      {
       "output_type": "stream",
       "stream": "stdout",
       "text": [
        "PRUNING\r\n"
       ]
      },
      {
       "output_type": "stream",
       "stream": "stdout",
       "text": [
        "start 1700\r\n"
       ]
      },
      {
       "output_type": "stream",
       "stream": "stdout",
       "text": [
        "FAIL\r\n"
       ]
      },
      {
       "output_type": "stream",
       "stream": "stdout",
       "text": [
        "FAIL\r\n"
       ]
      },
      {
       "output_type": "stream",
       "stream": "stdout",
       "text": [
        "FAIL\r\n"
       ]
      },
      {
       "output_type": "stream",
       "stream": "stdout",
       "text": [
        "FAIL\r\n"
       ]
      },
      {
       "output_type": "stream",
       "stream": "stdout",
       "text": [
        "FAIL\r\n"
       ]
      },
      {
       "output_type": "stream",
       "stream": "stdout",
       "text": [
        "FAIL\r\n"
       ]
      },
      {
       "output_type": "stream",
       "stream": "stdout",
       "text": [
        "(9.89134)\r\n"
       ]
      }
     ],
     "prompt_number": 106
    },
    {
     "cell_type": "code",
     "collapsed": false,
     "input": [
      "!{CODE}/parser --no_dep --sentence {DIR}/simple_headrule/parts --sentence_test  {DIR}/jack_proj_dev_full_labeled_tbttagged_parts --model {DIR}/simple_headrule/model5  --grammar {DIR}/simple_headrule/rules   --test --limit 20   > /tmp/output4"
     ],
     "language": "python",
     "outputs": [
      {
       "output_type": "stream",
       "stream": "stdout",
       "text": [
        "start 1700\r\n"
       ]
      }
     ],
     "prompt_number": "*"
    },
    {
     "cell_type": "code",
     "collapsed": false,
     "input": [
      "!ls -l {DIR}/simple_headrule/model5"
     ],
     "language": "python",
     "outputs": [
      {
       "output_type": "stream",
       "stream": "stdout",
       "text": [
        "-rw-rw-r-- 1 lingpenk lingpenk 204394014 Nov 30 17:10 /home/lingpenk/final//simple_headrule/model5\r\n"
       ]
      }
     ],
     "prompt_number": 60
    },
    {
     "cell_type": "code",
     "collapsed": false,
     "input": [
      "!{CODE}/parser --sentence {DIR}/simple_headrule/parts --sentence_test  {DIR}/dev_cheating_parts_tbparserfull   --grammar {DIR}/simple_headrule/rules   --oracle --oracle_tree  > /tmp/oracle"
     ],
     "language": "python",
     "outputs": [
      {
       "output_type": "stream",
       "stream": "stdout",
       "text": [
        "ORACLE mode"
       ]
      },
      {
       "output_type": "stream",
       "stream": "stdout",
       "text": [
        "FAIL\r\n"
       ]
      },
      {
       "output_type": "stream",
       "stream": "stdout",
       "text": [
        "FAIL\r\n"
       ]
      },
      {
       "output_type": "stream",
       "stream": "stdout",
       "text": [
        "FAIL\r\n"
       ]
      },
      {
       "output_type": "stream",
       "stream": "stdout",
       "text": [
        "FAIL\r\n"
       ]
      }
     ],
     "prompt_number": 315
    },
    {
     "cell_type": "code",
     "collapsed": false,
     "input": [
      "!{CODE}/parser --sentence {DIR}/simple_headrule/parts --sentence_test  {DIR}/dev_cheating_parts_tbparserfull   --grammar {DIR}/simple_headrule/rules   --oracle --oracle_tree  --pruning > /tmp/oracle2"
     ],
     "language": "python",
     "outputs": [
      {
       "output_type": "stream",
       "stream": "stdout",
       "text": [
        "PRUNING\r\n"
       ]
      },
      {
       "output_type": "stream",
       "stream": "stdout",
       "text": [
        "ORACLE mode"
       ]
      },
      {
       "output_type": "stream",
       "stream": "stdout",
       "text": [
        "FAIL\r\n"
       ]
      },
      {
       "output_type": "stream",
       "stream": "stdout",
       "text": [
        "FAIL\r\n"
       ]
      },
      {
       "output_type": "stream",
       "stream": "stdout",
       "text": [
        "FAIL\r\n"
       ]
      },
      {
       "output_type": "stream",
       "stream": "stdout",
       "text": [
        "FAIL\r\n"
       ]
      },
      {
       "output_type": "stream",
       "stream": "stdout",
       "text": [
        "FAIL\r\n"
       ]
      },
      {
       "output_type": "stream",
       "stream": "stdout",
       "text": [
        "FAIL\r\n"
       ]
      }
     ],
     "prompt_number": 314
    },
    {
     "cell_type": "code",
     "collapsed": false,
     "input": [
      "!{CODE}/parser --sentence {DIR}/simple_headrule/parts --sentence_test  {DIR}/dev_cheating_parts_tbparserfull   --grammar {DIR}/simple_headrule/rules   --oracle --oracle_tree  --pruning --dir_pruning > /tmp/oracle3"
     ],
     "language": "python",
     "outputs": [
      {
       "output_type": "stream",
       "stream": "stdout",
       "text": [
        "PRUNING\r\n"
       ]
      },
      {
       "output_type": "stream",
       "stream": "stdout",
       "text": [
        "DIR PRUNING\r\n"
       ]
      },
      {
       "output_type": "stream",
       "stream": "stdout",
       "text": [
        "ORACLE mode"
       ]
      },
      {
       "output_type": "stream",
       "stream": "stdout",
       "text": [
        "FAIL\r\n"
       ]
      },
      {
       "output_type": "stream",
       "stream": "stdout",
       "text": [
        "FAIL\r\n"
       ]
      },
      {
       "output_type": "stream",
       "stream": "stdout",
       "text": [
        "FAIL\r\n"
       ]
      },
      {
       "output_type": "stream",
       "stream": "stdout",
       "text": [
        "FAIL\r\n"
       ]
      },
      {
       "output_type": "stream",
       "stream": "stdout",
       "text": [
        "FAIL\r\n"
       ]
      },
      {
       "output_type": "stream",
       "stream": "stdout",
       "text": [
        "FAIL\r\n"
       ]
      }
     ],
     "prompt_number": 316
    },
    {
     "cell_type": "code",
     "collapsed": false,
     "input": [
      "!ls ~lingpenk/final_sys_english_jack"
     ],
     "language": "python",
     "outputs": [
      {
       "output_type": "stream",
       "stream": "stdout",
       "text": [
        "fail.test.parts  model\tparts  rules  turbostandard_dev.cheat.parts\r\n"
       ]
      }
     ],
     "prompt_number": 324
    },
    {
     "cell_type": "code",
     "collapsed": false,
     "input": [
      "!ls {DIR}/../final_sys_english_jack/turbostandard_dev.cheat.parts"
     ],
     "language": "python",
     "outputs": [
      {
       "output_type": "stream",
       "stream": "stdout",
       "text": [
        "fail.test.parts  model\tparts  rules  turbostandard_dev.cheat.parts\r\n"
       ]
      }
     ],
     "prompt_number": 333
    },
    {
     "cell_type": "code",
     "collapsed": false,
     "input": [
      "!head /tmp/output_old_fail"
     ],
     "language": "python",
     "outputs": [
      {
       "output_type": "stream",
       "stream": "stdout",
       "text": [
        "\r\n"
       ]
      }
     ],
     "prompt_number": 353
    },
    {
     "cell_type": "code",
     "collapsed": false,
     "input": [
      "!ls {DIR}/../final_sys_english_jack/"
     ],
     "language": "python",
     "outputs": [
      {
       "output_type": "stream",
       "stream": "stdout",
       "text": [
        "fail.dev.parts\tfail.test.parts  model\tparts  rules  turbostandard_dev.cheat.parts\r\n"
       ]
      }
     ],
     "prompt_number": 370
    },
    {
     "cell_type": "code",
     "collapsed": false,
     "input": [],
     "language": "python",
     "outputs": [],
     "prompt_number": 393
    },
    {
     "cell_type": "code",
     "collapsed": false,
     "input": [
      "!{CODE}/parser --sentence {PARTS} --sentence_test  {DIR}/../final_sys_english_jack/fail.dev.parts --model {DIR}/../final_sys_english_jack/model   --grammar {RULES} --simple_features   --test  > /tmp/output_old_fail"
     ],
     "language": "python",
     "outputs": [
      {
       "output_type": "stream",
       "stream": "stdout",
       "text": [
        "start 1700\r\n"
       ]
      },
      {
       "output_type": "stream",
       "stream": "stdout",
       "text": [
        "(21.962)\r\n",
        "1826.65\r\n",
        "77.4063\r\n"
       ]
      }
     ],
     "prompt_number": 394
    },
    {
     "cell_type": "code",
     "collapsed": false,
     "input": [
      "!{CODE}/parser --sentence {PARTS} --sentence_test  {DIR}/../final_sys_english_jack/turbostandard_dev.cheat.parts   --grammar {RULES}   --oracle --oracle_tree  > /tmp/oracle_tb"
     ],
     "language": "python",
     "outputs": [
      {
       "output_type": "stream",
       "stream": "stdout",
       "text": [
        "ORACLE mode"
       ]
      }
     ],
     "prompt_number": 384
    },
    {
     "cell_type": "code",
     "collapsed": false,
     "input": [
      "!{CODE}/parser --sentence {DIR}/simple_headrule/parts --sentence_test  {DIR}/dev_cheating_parts_tbparserfull   --grammar {DIR}/simple_headrule/rules   --oracle --oracle_tree  --pruning --dir_pruning > /tmp/oracle3"
     ],
     "language": "python",
     "outputs": [
      {
       "output_type": "stream",
       "stream": "stdout",
       "text": [
        "PRUNING\r\n"
       ]
      },
      {
       "output_type": "stream",
       "stream": "stdout",
       "text": [
        "DIR PRUNING\r\n"
       ]
      },
      {
       "output_type": "stream",
       "stream": "stdout",
       "text": [
        "ORACLE mode"
       ]
      },
      {
       "output_type": "stream",
       "stream": "stdout",
       "text": [
        "FAIL\r\n",
        "FAIL\r\n"
       ]
      },
      {
       "output_type": "stream",
       "stream": "stdout",
       "text": [
        "FAIL\r\n"
       ]
      },
      {
       "output_type": "stream",
       "stream": "stdout",
       "text": [
        "FAIL\r\n",
        "FAIL\r\n"
       ]
      },
      {
       "output_type": "stream",
       "stream": "stdout",
       "text": [
        "FAIL\r\n",
        "FAIL\r\n"
       ]
      },
      {
       "output_type": "stream",
       "stream": "stdout",
       "text": [
        "FAIL\r\n",
        "FAIL\r\n"
       ]
      },
      {
       "output_type": "stream",
       "stream": "stdout",
       "text": [
        "FAIL\r\n"
       ]
      }
     ],
     "prompt_number": 386
    },
    {
     "cell_type": "code",
     "collapsed": false,
     "input": [
      "!{CODE}/parser --sentence {DIR}/simple_headrule/parts --sentence_test  {DIR}/goldtag_golddep_dev_parts --model /tmp/simple_noprune  --grammar {DIR}/simple_headrule/rules --simple_features   --test   > /tmp/cheating"
     ],
     "language": "python",
     "outputs": [
      {
       "output_type": "stream",
       "stream": "stdout",
       "text": [
        "start 1700\r\n"
       ]
      },
      {
       "output_type": "stream",
       "stream": "stdout",
       "text": [
        "(26.8194)\r\n"
       ]
      }
     ],
     "prompt_number": 173
    },
    {
     "cell_type": "code",
     "collapsed": false,
     "input": [
      "!{CODE}/parser --sentence /tmp/sec19_parts --sentence_test  {DIR}/goldtag_golddep_dev_parts --model /tmp/sec195  --grammar {DIR}/simple_headrule/rules --simple_features   --test   > /tmp/cheating2"
     ],
     "language": "python",
     "outputs": [
      {
       "output_type": "stream",
       "stream": "stdout",
       "text": [
        "start 1700\r\n"
       ]
      },
      {
       "output_type": "stream",
       "stream": "stdout",
       "text": [
        "(26.7481)\r\n"
       ]
      }
     ],
     "prompt_number": 185
    },
    {
     "cell_type": "code",
     "collapsed": false,
     "input": [
      "!{CODE}/parser --pruning  --sentence {DIR}/simple_headrule/parts --sentence_test  {DIR}/dev_cheating_parts   --grammar {DIR}/simple_headrule/rules --pruning   --oracle --oracle_tree  > /tmp/oracle_pruning"
     ],
     "language": "python",
     "outputs": []
    },
    {
     "cell_type": "code",
     "collapsed": false,
     "input": [],
     "language": "python",
     "outputs": []
    },
    {
     "cell_type": "code",
     "collapsed": false,
     "input": [
      "!{EVAL}/EVALB/evalb -p ../evalb/EVALB/COLLINS.prm  {DIR}/../ptb/dev.withtop  /tmp/oracle3 | tail -n 30"
     ],
     "language": "python",
     "outputs": [
      {
       "output_type": "stream",
       "stream": "stdout",
       "text": [
        "1424 : Length unmatch (7|8)\r\n",
        "                 93.90  92.09  28518 30371 30969   1240  35266 34036    96.51\r\n",
        "=== Summary ===\r\n",
        "\r\n",
        "-- All --\r\n",
        "Number of sentence        =   1700\r\n",
        "Number of Error sentence  =      1\r\n",
        "Number of Skip  sentence  =      4\r\n",
        "Number of Valid sentence  =   1695\r\n",
        "Bracketing Recall         =  93.90\r\n",
        "Bracketing Precision      =  92.09\r\n",
        "Bracketing FMeasure       =  92.98\r\n",
        "Complete match            =  48.61\r\n",
        "Average crossing          =   0.73\r\n",
        "No crossing               =  70.09\r\n",
        "2 or less crossing        =  88.91\r\n",
        "Tagging accuracy          =  96.51\r\n",
        "\r\n",
        "-- len<=40 --\r\n",
        "Number of sentence        =   1578\r\n",
        "Number of Error sentence  =      1\r\n",
        "Number of Skip  sentence  =      0\r\n",
        "Number of Valid sentence  =   1577\r\n",
        "Bracketing Recall         =  94.30\r\n",
        "Bracketing Precision      =  92.64\r\n",
        "Bracketing FMeasure       =  93.46\r\n",
        "Complete match            =  51.17\r\n",
        "Average crossing          =   0.62\r\n",
        "No crossing               =  72.67\r\n",
        "2 or less crossing        =  90.55\r\n",
        "Tagging accuracy          =  96.52\r\n"
       ]
      }
     ],
     "prompt_number": 381
    },
    {
     "cell_type": "code",
     "collapsed": false,
     "input": [
      "!{EVAL}/EVALB/evalb -p ../evalb/EVALB/COLLINS.prm  /tmp/dev.withtop  /tmp/output | grep Bracketing"
     ],
     "language": "python",
     "outputs": [
      {
       "output_type": "stream",
       "stream": "stdout",
       "text": [
        "1424 : Length unmatch (7|8)\r\n",
        "Bracketing Recall         =  91.06\r\n",
        "Bracketing Precision      =  90.71\r\n",
        "Bracketing FMeasure       =  90.89\r\n",
        "Bracketing Recall         =  91.47\r\n",
        "Bracketing Precision      =  91.27\r\n",
        "Bracketing FMeasure       =  91.37\r\n"
       ]
      }
     ],
     "prompt_number": 319
    },
    {
     "cell_type": "code",
     "collapsed": false,
     "input": [
      "!{EVAL}/EVALB/evalb -p ../evalb/EVALB/COLLINS.prm  /tmp/dev.withtop  /tmp/output2 | tail -n "
     ],
     "language": "python",
     "outputs": [
      {
       "output_type": "stream",
       "stream": "stdout",
       "text": [
        "1424 : Length unmatch (7|8)\r\n",
        "Bracketing Recall         =  91.34\r\n",
        "Bracketing Precision      =  90.72\r\n",
        "Bracketing FMeasure       =  91.03\r\n",
        "Bracketing Recall         =  91.75\r\n",
        "Bracketing Precision      =  91.25\r\n",
        "Bracketing FMeasure       =  91.49\r\n"
       ]
      }
     ],
     "prompt_number": 388
    },
    {
     "cell_type": "code",
     "collapsed": false,
     "input": [
      "!{EVAL}/EVALB/evalb -p ../evalb/EVALB/COLLINS.prm  /tmp/dev.withtop  /tmp/output3 | grep Bracketing"
     ],
     "language": "python",
     "outputs": [
      {
       "output_type": "stream",
       "stream": "stdout",
       "text": [
        "1424 : Length unmatch (7|8)\r\n",
        "Bracketing Recall         =  68.23\r\n",
        "Bracketing Precision      =  80.51\r\n",
        "Bracketing FMeasure       =  73.86\r\n",
        "Bracketing Recall         =  68.70\r\n",
        "Bracketing Precision      =  80.94\r\n",
        "Bracketing FMeasure       =  74.32\r\n"
       ]
      }
     ],
     "prompt_number": 389
    },
    {
     "cell_type": "code",
     "collapsed": false,
     "input": [
      "!{EVAL}/EVALB/evalb -p ../evalb/EVALB/COLLINS.prm  /tmp/dev.withtop  /tmp/cheating | grep Bracketing"
     ],
     "language": "python",
     "outputs": [
      {
       "output_type": "stream",
       "stream": "stdout",
       "text": [
        "69 : Words unmatch (WCRS/Boston|WCRS\\/Boston)\r\n",
        "397 : Words unmatch (3/4|3\\/4)\r\n",
        "398 : Words unmatch (1/4|1\\/4)\r\n",
        "644 : Words unmatch (and/or|and\\/or)\r\n",
        "784 : Words unmatch (7/8|7\\/8)\r\n",
        "793 : Words unmatch (3/4|3\\/4)\r\n",
        "812 : Words unmatch (1/2|1\\/2)\r\n",
        "813 : Words unmatch (1/2|1\\/2)\r\n",
        "847 : Words unmatch (1/4|1\\/4)\r\n",
        "849 : Words unmatch (1/4|1\\/4)\r\n",
        "850 : Words unmatch (3/4|3\\/4)\r\n",
        "853 : Words unmatch (3/4|3\\/4)\r\n",
        "939 : Words unmatch (1/2|1\\/2)\r\n",
        "940 : Words unmatch (3/4|3\\/4)\r\n",
        "945 : Words unmatch (3/4|3\\/4)\r\n",
        "961 : Words unmatch (3/4|3\\/4)\r\n",
        "978 : Words unmatch (19/32|19\\/32)\r\n",
        "980 : Words unmatch (3/32|3\\/32)\r\n",
        "991 : Words unmatch (1/2|1\\/2)\r\n",
        "997 : Words unmatch (3/4|3\\/4)\r\n",
        "998 : Words unmatch (3/4|3\\/4)\r\n",
        "1000 : Words unmatch (24/32|24\\/32)\r\n",
        "1002 : Words unmatch (4/32|4\\/32)\r\n",
        "1003 : Words unmatch (1/4|1\\/4)\r\n",
        "1004 : Words unmatch (5/32|5\\/32)\r\n",
        "1010 : Words unmatch (1/4|1\\/4)\r\n",
        "1016 : Words unmatch (3/4|3\\/4)\r\n",
        "1017 : Words unmatch (1/4|1\\/4)\r\n",
        "1018 : Words unmatch (1/8|1\\/8)\r\n",
        "1019 : Words unmatch (1/4|1\\/4)\r\n",
        "1252 : Words unmatch (1/2|1\\/2)\r\n",
        "1254 : Words unmatch (3/4|3\\/4)\r\n",
        "1259 : Words unmatch (3/4|3\\/4)\r\n",
        "1269 : Words unmatch (5/8|5\\/8)\r\n",
        "1270 : Words unmatch (1/2|1\\/2)\r\n",
        "1278 : Words unmatch (6/2|6\\/2)\r\n",
        "Bracketing Recall         =  97.77\r\n",
        "Bracketing Precision      =  97.54\r\n",
        "Bracketing FMeasure       =  97.65\r\n",
        "Bracketing Recall         =  97.84\r\n",
        "Bracketing Precision      =  97.58\r\n",
        "Bracketing FMeasure       =  97.71\r\n"
       ]
      }
     ],
     "prompt_number": 184
    },
    {
     "cell_type": "code",
     "collapsed": false,
     "input": [
      "!{EVAL}/EVALB/evalb -p ../evalb/EVALB/COLLINS.prm  /tmp/dev.withtop  /tmp/cheating2 | grep Bracketing"
     ],
     "language": "python",
     "outputs": [
      {
       "output_type": "stream",
       "stream": "stdout",
       "text": [
        "69 : Words unmatch (WCRS/Boston|WCRS\\/Boston)\r\n",
        "397 : Words unmatch (3/4|3\\/4)\r\n",
        "398 : Words unmatch (1/4|1\\/4)\r\n",
        "644 : Words unmatch (and/or|and\\/or)\r\n",
        "784 : Words unmatch (7/8|7\\/8)\r\n",
        "793 : Words unmatch (3/4|3\\/4)\r\n",
        "812 : Words unmatch (1/2|1\\/2)\r\n",
        "813 : Words unmatch (1/2|1\\/2)\r\n",
        "847 : Words unmatch (1/4|1\\/4)\r\n",
        "849 : Words unmatch (1/4|1\\/4)\r\n",
        "850 : Words unmatch (3/4|3\\/4)\r\n",
        "853 : Words unmatch (3/4|3\\/4)\r\n",
        "939 : Words unmatch (1/2|1\\/2)\r\n",
        "940 : Words unmatch (3/4|3\\/4)\r\n",
        "945 : Words unmatch (3/4|3\\/4)\r\n",
        "961 : Words unmatch (3/4|3\\/4)\r\n",
        "978 : Words unmatch (19/32|19\\/32)\r\n",
        "980 : Words unmatch (3/32|3\\/32)\r\n",
        "991 : Words unmatch (1/2|1\\/2)\r\n",
        "997 : Words unmatch (3/4|3\\/4)\r\n",
        "998 : Words unmatch (3/4|3\\/4)\r\n",
        "1000 : Words unmatch (24/32|24\\/32)\r\n",
        "1002 : Words unmatch (4/32|4\\/32)\r\n",
        "1003 : Words unmatch (1/4|1\\/4)\r\n",
        "1004 : Words unmatch (5/32|5\\/32)\r\n",
        "1010 : Words unmatch (1/4|1\\/4)\r\n",
        "1016 : Words unmatch (3/4|3\\/4)\r\n",
        "1017 : Words unmatch (1/4|1\\/4)\r\n",
        "1018 : Words unmatch (1/8|1\\/8)\r\n",
        "1019 : Words unmatch (1/4|1\\/4)\r\n",
        "1252 : Words unmatch (1/2|1\\/2)\r\n",
        "1254 : Words unmatch (3/4|3\\/4)\r\n",
        "1259 : Words unmatch (3/4|3\\/4)\r\n",
        "1269 : Words unmatch (5/8|5\\/8)\r\n",
        "1270 : Words unmatch (1/2|1\\/2)\r\n",
        "1278 : Words unmatch (6/2|6\\/2)\r\n",
        "Bracketing Recall         =  95.85\r\n",
        "Bracketing Precision      =  95.85\r\n",
        "Bracketing FMeasure       =  95.85\r\n",
        "Bracketing Recall         =  95.93\r\n",
        "Bracketing Precision      =  95.97\r\n",
        "Bracketing FMeasure       =  95.95\r\n"
       ]
      }
     ],
     "prompt_number": 187
    },
    {
     "cell_type": "code",
     "collapsed": false,
     "input": [
      "!{EVAL}/EVALB/evalb -p ../evalb/EVALB/COLLINS.prm  /tmp/dev.withtop  /tmp/output_full | grep Bracketing"
     ],
     "language": "python",
     "outputs": [
      {
       "output_type": "stream",
       "stream": "stdout",
       "text": [
        "1424 : Length unmatch (7|8)\r\n",
        "Bracketing Recall         =  91.15\r\n",
        "Bracketing Precision      =  90.69\r\n",
        "Bracketing FMeasure       =  90.92\r\n",
        "Bracketing Recall         =  91.63\r\n",
        "Bracketing Precision      =  91.35\r\n",
        "Bracketing FMeasure       =  91.49\r\n"
       ]
      }
     ],
     "prompt_number": 391
    },
    {
     "cell_type": "code",
     "collapsed": false,
     "input": [
      "!{EVAL}/EVALB/evalb -p ../evalb/EVALB/COLLINS.prm  /tmp/dev.withtop  /tmp/output_prune | tail -n 30"
     ],
     "language": "python",
     "outputs": [
      {
       "output_type": "stream",
       "stream": "stdout",
       "text": [
        "1424 : Length unmatch (7|8)\r\n",
        "                 91.12  90.65  27853 30568 30727   1134  35501 34257    96.50\r\n",
        "=== Summary ===\r\n",
        "\r\n",
        "-- All --\r\n",
        "Number of sentence        =   1700\r\n",
        "Number of Error sentence  =      1\r\n",
        "Number of Skip  sentence  =      0\r\n",
        "Number of Valid sentence  =   1699\r\n",
        "Bracketing Recall         =  91.12\r\n",
        "Bracketing Precision      =  90.65\r\n",
        "Bracketing FMeasure       =  90.88\r\n",
        "Complete match            =  39.79\r\n",
        "Average crossing          =   0.67\r\n",
        "No crossing               =  73.10\r\n",
        "2 or less crossing        =  89.94\r\n",
        "Tagging accuracy          =  96.50\r\n",
        "\r\n",
        "-- len<=40 --\r\n",
        "Number of sentence        =   1578\r\n",
        "Number of Error sentence  =      1\r\n",
        "Number of Skip  sentence  =      0\r\n",
        "Number of Valid sentence  =   1577\r\n",
        "Bracketing Recall         =  91.59\r\n",
        "Bracketing Precision      =  91.28\r\n",
        "Bracketing FMeasure       =  91.43\r\n",
        "Complete match            =  42.17\r\n",
        "Average crossing          =   0.55\r\n",
        "No crossing               =  75.97\r\n",
        "2 or less crossing        =  91.82\r\n",
        "Tagging accuracy          =  96.52\r\n"
       ]
      }
     ],
     "prompt_number": 366
    },
    {
     "cell_type": "code",
     "collapsed": false,
     "input": [
      "!{EVAL}/EVALB/evalb -p ../evalb/EVALB/COLLINS.prm  /tmp/dev.withtop  /tmp/oracle_tb | grep Bracketing"
     ],
     "language": "python",
     "outputs": [
      {
       "output_type": "stream",
       "stream": "stdout",
       "text": [
        "69 : Words unmatch (WCRS/Boston|WCRS\\/Boston)\r\n",
        "397 : Words unmatch (3/4|3\\/4)\r\n",
        "398 : Words unmatch (1/4|1\\/4)\r\n",
        "644 : Words unmatch (and/or|and\\/or)\r\n",
        "784 : Words unmatch (7/8|7\\/8)\r\n",
        "793 : Words unmatch (3/4|3\\/4)\r\n",
        "812 : Words unmatch (1/2|1\\/2)\r\n",
        "813 : Words unmatch (1/2|1\\/2)\r\n",
        "847 : Words unmatch (1/4|1\\/4)\r\n",
        "849 : Words unmatch (1/4|1\\/4)\r\n",
        "850 : Words unmatch (3/4|3\\/4)\r\n",
        "853 : Words unmatch (3/4|3\\/4)\r\n",
        "939 : Words unmatch (1/2|1\\/2)\r\n",
        "940 : Words unmatch (3/4|3\\/4)\r\n",
        "945 : Words unmatch (3/4|3\\/4)\r\n",
        "961 : Words unmatch (3/4|3\\/4)\r\n",
        "978 : Words unmatch (19/32|19\\/32)\r\n",
        "980 : Words unmatch (3/32|3\\/32)\r\n",
        "991 : Words unmatch (1/2|1\\/2)\r\n",
        "997 : Words unmatch (3/4|3\\/4)\r\n",
        "998 : Words unmatch (3/4|3\\/4)\r\n",
        "1000 : Words unmatch (24/32|24\\/32)\r\n",
        "1002 : Words unmatch (4/32|4\\/32)\r\n",
        "1003 : Words unmatch (1/4|1\\/4)\r\n",
        "1004 : Words unmatch (5/32|5\\/32)\r\n",
        "1010 : Words unmatch (1/4|1\\/4)\r\n",
        "1016 : Words unmatch (3/4|3\\/4)\r\n",
        "1017 : Words unmatch (1/4|1\\/4)\r\n",
        "1018 : Words unmatch (1/8|1\\/8)\r\n",
        "1019 : Words unmatch (1/4|1\\/4)\r\n",
        "1252 : Words unmatch (1/2|1\\/2)\r\n",
        "1254 : Words unmatch (3/4|3\\/4)\r\n",
        "1259 : Words unmatch (3/4|3\\/4)\r\n",
        "1269 : Words unmatch (5/8|5\\/8)\r\n",
        "1270 : Words unmatch (1/2|1\\/2)\r\n",
        "1278 : Words unmatch (6/2|6\\/2)\r\n",
        "1424 : Length unmatch (7|8)\r\n",
        "Bracketing Recall         =  94.19\r\n",
        "Bracketing Precision      =  91.11\r\n",
        "Bracketing FMeasure       =  92.62\r\n",
        "Bracketing Recall         =  94.66\r\n",
        "Bracketing Precision      =  91.86\r\n",
        "Bracketing FMeasure       =  93.24\r\n"
       ]
      }
     ],
     "prompt_number": 340
    },
    {
     "cell_type": "code",
     "collapsed": false,
     "input": [
      "!{EVAL}/EVALB/evalb -p ../evalb/EVALB/COLLINS.prm  /tmp/dev.withtop  /tmp/oracle_tb | grep Bracketing"
     ],
     "language": "python",
     "outputs": [
      {
       "output_type": "stream",
       "stream": "stdout",
       "text": [
        "69 : Words unmatch (WCRS/Boston|WCRS\\/Boston)\r\n",
        "397 : Words unmatch (3/4|3\\/4)\r\n",
        "398 : Words unmatch (1/4|1\\/4)\r\n",
        "644 : Words unmatch (and/or|and\\/or)\r\n",
        "784 : Words unmatch (7/8|7\\/8)\r\n",
        "793 : Words unmatch (3/4|3\\/4)\r\n",
        "812 : Words unmatch (1/2|1\\/2)\r\n",
        "813 : Words unmatch (1/2|1\\/2)\r\n",
        "847 : Words unmatch (1/4|1\\/4)\r\n",
        "849 : Words unmatch (1/4|1\\/4)\r\n",
        "850 : Words unmatch (3/4|3\\/4)\r\n",
        "853 : Words unmatch (3/4|3\\/4)\r\n",
        "939 : Words unmatch (1/2|1\\/2)\r\n",
        "940 : Words unmatch (3/4|3\\/4)\r\n",
        "945 : Words unmatch (3/4|3\\/4)\r\n",
        "961 : Words unmatch (3/4|3\\/4)\r\n",
        "978 : Words unmatch (19/32|19\\/32)\r\n",
        "980 : Words unmatch (3/32|3\\/32)\r\n",
        "991 : Words unmatch (1/2|1\\/2)\r\n",
        "997 : Words unmatch (3/4|3\\/4)\r\n",
        "998 : Words unmatch (3/4|3\\/4)\r\n",
        "1000 : Words unmatch (24/32|24\\/32)\r\n",
        "1002 : Words unmatch (4/32|4\\/32)\r\n",
        "1003 : Words unmatch (1/4|1\\/4)\r\n",
        "1004 : Words unmatch (5/32|5\\/32)\r\n",
        "1010 : Words unmatch (1/4|1\\/4)\r\n",
        "1016 : Words unmatch (3/4|3\\/4)\r\n",
        "1017 : Words unmatch (1/4|1\\/4)\r\n",
        "1018 : Words unmatch (1/8|1\\/8)\r\n",
        "1019 : Words unmatch (1/4|1\\/4)\r\n",
        "1252 : Words unmatch (1/2|1\\/2)\r\n",
        "1254 : Words unmatch (3/4|3\\/4)\r\n",
        "1259 : Words unmatch (3/4|3\\/4)\r\n",
        "1269 : Words unmatch (5/8|5\\/8)\r\n",
        "1270 : Words unmatch (1/2|1\\/2)\r\n",
        "1278 : Words unmatch (6/2|6\\/2)\r\n",
        "1424 : Length unmatch (7|8)\r\n",
        "Bracketing Recall         =  94.19\r\n",
        "Bracketing Precision      =  91.11\r\n",
        "Bracketing FMeasure       =  92.62\r\n",
        "Bracketing Recall         =  94.66\r\n",
        "Bracketing Precision      =  91.86\r\n",
        "Bracketing FMeasure       =  93.24\r\n"
       ]
      }
     ],
     "prompt_number": 385
    },
    {
     "cell_type": "code",
     "collapsed": false,
     "input": [
      "!{EVAL}/EVALB/evalb -p ../evalb/EVALB/COLLINS.prm  /tmp/dev.withtop  /tmp/output_old_fail | grep Bracketing "
     ],
     "language": "python",
     "outputs": [
      {
       "output_type": "stream",
       "stream": "stdout",
       "text": [
        "1424 : Length unmatch (7|8)\r\n",
        "Bracketing Recall         =  85.95\r\n",
        "Bracketing Precision      =  85.43\r\n",
        "Bracketing FMeasure       =  85.69\r\n",
        "Bracketing Recall         =  86.83\r\n",
        "Bracketing Precision      =  86.48\r\n",
        "Bracketing FMeasure       =  86.66\r\n"
       ]
      }
     ],
     "prompt_number": 395
    },
    {
     "cell_type": "code",
     "collapsed": false,
     "input": [
      "!ls {DIR}../ptb/"
     ],
     "language": "python",
     "outputs": [
      {
       "output_type": "stream",
       "stream": "stdout",
       "text": [
        "dev.withtop  train.withtop\r\n"
       ]
      }
     ],
     "prompt_number": 359
    }
   ]
  }
 ]
}