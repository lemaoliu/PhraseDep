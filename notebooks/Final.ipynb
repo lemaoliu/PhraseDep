{
 "metadata": {
  "name": ""
 },
 "nbformat": 3,
 "nbformat_minor": 0,
 "worksheets": [
  {
   "cells": [
    {
     "cell_type": "code",
     "collapsed": false,
     "input": [
      "DIR = \"~lingpenk/final/\"\n",
      "CODE = \"~/Projects/PhraseDep/src/\"\n",
      "EVAL = \"~/Projects/PhraseDep/evalb/\""
     ],
     "language": "python",
     "outputs": [],
     "prompt_number": 241
    },
    {
     "cell_type": "code",
     "collapsed": false,
     "input": [
      "!ls -l /tmp/output2"
     ],
     "language": "python",
     "outputs": [
      {
       "output_type": "stream",
       "stream": "stdout",
       "text": [
        "-rw-rw-r-- 1 srush srush 734143 Nov 30 20:48 /tmp/output2\r\n"
       ]
      }
     ],
     "prompt_number": 208
    },
    {
     "cell_type": "code",
     "collapsed": false,
     "input": [
      "!ls -l {DIR}"
     ],
     "language": "python",
     "outputs": [],
     "prompt_number": "*"
    },
    {
     "cell_type": "code",
     "collapsed": false,
     "input": [
      "!{CODE}/parser --sentence {DIR}/simple_headrule/parts --sentence_test  {DIR}/jack_proj_dev_full_labeled_tbttagged_parts --model /tmp/simple_noprune  --grammar {DIR}/simple_headrule/rules --simple_features   --test   --items > /tmp/output_full_items"
     ],
     "language": "python",
     "outputs": [],
     "prompt_number": "*"
    },
    {
     "cell_type": "code",
     "collapsed": false,
     "input": [
      "!{CODE}/parser --sentence {DIR}/simple_headrule/parts --sentence_test  {DIR}/jack_proj_dev_full_labeled_tbttagged_parts --model /tmp/simple_noprune  --grammar {DIR}/simple_headrule/rules --simple_features   --test   > /tmp/output_full"
     ],
     "language": "python",
     "outputs": [
      {
       "output_type": "stream",
       "stream": "stdout",
       "text": [
        "start 1700\r\n"
       ]
      },
      {
       "output_type": "stream",
       "stream": "stdout",
       "text": [
        "FAIL\r\n"
       ]
      },
      {
       "output_type": "stream",
       "stream": "stdout",
       "text": [
        "FAIL\r\n"
       ]
      },
      {
       "output_type": "stream",
       "stream": "stdout",
       "text": [
        "FAIL\r\n"
       ]
      },
      {
       "output_type": "stream",
       "stream": "stdout",
       "text": [
        "FAIL\r\n"
       ]
      },
      {
       "output_type": "stream",
       "stream": "stdout",
       "text": [
        "(23.3786)\r\n"
       ]
      }
     ],
     "prompt_number": 196
    },
    {
     "cell_type": "code",
     "collapsed": false,
     "input": [
      "# !gprof {CODE}/parser"
     ],
     "language": "python",
     "outputs": [],
     "prompt_number": 148
    },
    {
     "cell_type": "code",
     "collapsed": false,
     "input": [],
     "language": "python",
     "outputs": []
    },
    {
     "cell_type": "code",
     "collapsed": false,
     "input": [
      "v = [map(int, l.split()[1:]) for l in open(\"/tmp/stats_clean\")]"
     ],
     "language": "python",
     "outputs": [],
     "prompt_number": 238
    },
    {
     "cell_type": "code",
     "collapsed": false,
     "input": [],
     "language": "python",
     "outputs": [],
     "prompt_number": 237
    },
    {
     "cell_type": "code",
     "collapsed": false,
     "input": [
      "!{CODE}/parser --sentence {DIR}/simple_headrule/parts --sentence_test  {DIR}/jack_proj_dev_full_labeled_tbttagged_parts --model /tmp/simple_noprune --simple_features  --grammar {DIR}/simple_headrule/rules   --test > /tmp/output 2> /tmp/stats_full"
     ],
     "language": "python",
     "outputs": [],
     "prompt_number": "*"
    },
    {
     "cell_type": "code",
     "collapsed": false,
     "input": [
      "!tail /tmp/stats"
     ],
     "language": "python",
     "outputs": [],
     "prompt_number": "*"
    },
    {
     "cell_type": "code",
     "collapsed": false,
     "input": [
      "!{CODE}/parser --sentence {DIR}/simple_headrule/parts --sentence_test  {DIR}/jack_proj_dev_full_labeled_tbttagged_parts --model /tmp/simple_noprune --simple_features  --grammar {DIR}/simple_headrule/rules   --test --pruning --dir_pruning > /tmp/output 2> /tmp/stats"
     ],
     "language": "python",
     "outputs": [],
     "prompt_number": 243
    },
    {
     "cell_type": "code",
     "collapsed": false,
     "input": [
      "!grep STATS /tmp/stats > /tmp/stats_clean"
     ],
     "language": "python",
     "outputs": []
    },
    {
     "cell_type": "code",
     "collapsed": false,
     "input": [
      "!{CODE}/parser --sentence {DIR}/simple_headrule/parts --sentence_test  {DIR}/jack_proj_dev_full_labeled_tbttagged_parts --model {DIR}/simple_headrule/model5  --grammar {DIR}/simple_headrule/rules   --test  > /tmp/output2"
     ],
     "language": "python",
     "outputs": [
      {
       "output_type": "stream",
       "stream": "stdout",
       "text": [
        "start 1700\r\n"
       ]
      },
      {
       "output_type": "stream",
       "stream": "stdout",
       "text": [
        "FAIL\r\n"
       ]
      },
      {
       "output_type": "stream",
       "stream": "stdout",
       "text": [
        "FAIL\r\n"
       ]
      },
      {
       "output_type": "stream",
       "stream": "stdout",
       "text": [
        "FAIL\r\n"
       ]
      },
      {
       "output_type": "stream",
       "stream": "stdout",
       "text": [
        "FAIL\r\n"
       ]
      },
      {
       "output_type": "stream",
       "stream": "stdout",
       "text": [
        "(26.9028)\r\n"
       ]
      }
     ],
     "prompt_number": 70
    },
    {
     "cell_type": "code",
     "collapsed": false,
     "input": [],
     "language": "python",
     "outputs": []
    },
    {
     "cell_type": "code",
     "collapsed": false,
     "input": [
      "!{CODE}/parser --pruning --sentence {DIR}/simple_headrule/parts --sentence_test  {DIR}/jack_proj_dev_full_labeled_tbttagged_parts --model {DIR}/simple_headrule/model5  --grammar {DIR}/simple_headrule/rules   --test   > /tmp/output3"
     ],
     "language": "python",
     "outputs": [
      {
       "output_type": "stream",
       "stream": "stdout",
       "text": [
        "PRUNING\r\n"
       ]
      },
      {
       "output_type": "stream",
       "stream": "stdout",
       "text": [
        "start 1700\r\n"
       ]
      },
      {
       "output_type": "stream",
       "stream": "stdout",
       "text": [
        "FAIL\r\n"
       ]
      },
      {
       "output_type": "stream",
       "stream": "stdout",
       "text": [
        "FAIL\r\n"
       ]
      },
      {
       "output_type": "stream",
       "stream": "stdout",
       "text": [
        "FAIL\r\n"
       ]
      },
      {
       "output_type": "stream",
       "stream": "stdout",
       "text": [
        "FAIL\r\n"
       ]
      },
      {
       "output_type": "stream",
       "stream": "stdout",
       "text": [
        "FAIL\r\n"
       ]
      },
      {
       "output_type": "stream",
       "stream": "stdout",
       "text": [
        "FAIL\r\n"
       ]
      },
      {
       "output_type": "stream",
       "stream": "stdout",
       "text": [
        "(9.89134)\r\n"
       ]
      }
     ],
     "prompt_number": 106
    },
    {
     "cell_type": "code",
     "collapsed": false,
     "input": [
      "!{CODE}/parser --no_dep --sentence {DIR}/simple_headrule/parts --sentence_test  {DIR}/jack_proj_dev_full_labeled_tbttagged_parts --model {DIR}/simple_headrule/model5  --grammar {DIR}/simple_headrule/rules   --test --limit 20   > /tmp/output4"
     ],
     "language": "python",
     "outputs": [
      {
       "output_type": "stream",
       "stream": "stdout",
       "text": [
        "start 1700\r\n"
       ]
      }
     ],
     "prompt_number": "*"
    },
    {
     "cell_type": "code",
     "collapsed": false,
     "input": [
      "!ls -l {DIR}/simple_headrule/model5"
     ],
     "language": "python",
     "outputs": [
      {
       "output_type": "stream",
       "stream": "stdout",
       "text": [
        "-rw-rw-r-- 1 lingpenk lingpenk 204394014 Nov 30 17:10 /home/lingpenk/final//simple_headrule/model5\r\n"
       ]
      }
     ],
     "prompt_number": 60
    },
    {
     "cell_type": "code",
     "collapsed": false,
     "input": [
      "!{CODE}/parser --sentence {DIR}/simple_headrule/parts --sentence_test  {DIR}/dev_cheating_parts_tbparserfull   --grammar {DIR}/simple_headrule/rules   --oracle --oracle_tree  > /tmp/oracle"
     ],
     "language": "python",
     "outputs": [
      {
       "output_type": "stream",
       "stream": "stdout",
       "text": [
        "ORACLE mode"
       ]
      },
      {
       "output_type": "stream",
       "stream": "stdout",
       "text": [
        "FAIL\r\n"
       ]
      },
      {
       "output_type": "stream",
       "stream": "stdout",
       "text": [
        "FAIL\r\n"
       ]
      },
      {
       "output_type": "stream",
       "stream": "stdout",
       "text": [
        "FAIL\r\n"
       ]
      },
      {
       "output_type": "stream",
       "stream": "stdout",
       "text": [
        "FAIL\r\n"
       ]
      }
     ],
     "prompt_number": 95
    },
    {
     "cell_type": "code",
     "collapsed": false,
     "input": [
      "!{CODE}/parser --sentence {DIR}/simple_headrule/parts --sentence_test  {DIR}/dev_cheating_parts_tbparserfull   --grammar {DIR}/simple_headrule/rules   --oracle --oracle_tree  --pruning > /tmp/oracle2"
     ],
     "language": "python",
     "outputs": [
      {
       "output_type": "stream",
       "stream": "stdout",
       "text": [
        "PRUNING\r\n"
       ]
      },
      {
       "output_type": "stream",
       "stream": "stdout",
       "text": [
        "ORACLE mode"
       ]
      },
      {
       "output_type": "stream",
       "stream": "stdout",
       "text": [
        "FAIL\r\n"
       ]
      },
      {
       "output_type": "stream",
       "stream": "stdout",
       "text": [
        "FAIL\r\n"
       ]
      },
      {
       "output_type": "stream",
       "stream": "stdout",
       "text": [
        "FAIL\r\n"
       ]
      },
      {
       "output_type": "stream",
       "stream": "stdout",
       "text": [
        "FAIL\r\n"
       ]
      },
      {
       "output_type": "stream",
       "stream": "stdout",
       "text": [
        "FAIL\r\n"
       ]
      },
      {
       "output_type": "stream",
       "stream": "stdout",
       "text": [
        "FAIL\r\n"
       ]
      }
     ],
     "prompt_number": 96
    },
    {
     "cell_type": "code",
     "collapsed": false,
     "input": [
      "!{CODE}/parser --sentence {DIR}/simple_headrule/parts --sentence_test  {DIR}/goldtag_golddep_dev_parts --model /tmp/simple_noprune  --grammar {DIR}/simple_headrule/rules --simple_features   --test   > /tmp/cheating"
     ],
     "language": "python",
     "outputs": [
      {
       "output_type": "stream",
       "stream": "stdout",
       "text": [
        "start 1700\r\n"
       ]
      },
      {
       "output_type": "stream",
       "stream": "stdout",
       "text": [
        "(26.8194)\r\n"
       ]
      }
     ],
     "prompt_number": 173
    },
    {
     "cell_type": "code",
     "collapsed": false,
     "input": [
      "!{CODE}/parser --sentence /tmp/sec19_parts --sentence_test  {DIR}/goldtag_golddep_dev_parts --model /tmp/sec195  --grammar {DIR}/simple_headrule/rules --simple_features   --test   > /tmp/cheating2"
     ],
     "language": "python",
     "outputs": [
      {
       "output_type": "stream",
       "stream": "stdout",
       "text": [
        "start 1700\r\n"
       ]
      },
      {
       "output_type": "stream",
       "stream": "stdout",
       "text": [
        "(26.7481)\r\n"
       ]
      }
     ],
     "prompt_number": 185
    },
    {
     "cell_type": "code",
     "collapsed": false,
     "input": [
      "!{CODE}/parser --pruning  --sentence {DIR}/simple_headrule/parts --sentence_test  {DIR}/dev_cheating_parts   --grammar {DIR}/simple_headrule/rules --pruning   --oracle --oracle_tree  > /tmp/oracle_pruning"
     ],
     "language": "python",
     "outputs": []
    },
    {
     "cell_type": "code",
     "collapsed": false,
     "input": [],
     "language": "python",
     "outputs": []
    },
    {
     "cell_type": "code",
     "collapsed": false,
     "input": [
      "!{EVAL}/EVALB/evalb -p ../evalb/EVALB/COLLINS.prm  {DIR}/../ptb/dev.withtop  /tmp/oracle | grep Bracketing"
     ],
     "language": "python",
     "outputs": [
      {
       "output_type": "stream",
       "stream": "stdout",
       "text": [
        "1424 : Length unmatch (7|8)\r\n",
        "Bracketing Recall         =  94.45\r\n",
        "Bracketing Precision      =  91.39\r\n",
        "Bracketing FMeasure       =  92.90\r\n",
        "Bracketing Recall         =  94.84\r\n",
        "Bracketing Precision      =  92.01\r\n",
        "Bracketing FMeasure       =  93.40\r\n"
       ]
      }
     ],
     "prompt_number": 101
    },
    {
     "cell_type": "code",
     "collapsed": false,
     "input": [
      "!{EVAL}/EVALB/evalb -p ../evalb/EVALB/COLLINS.prm  {DIR}/../ptb/dev.withtop  /tmp/oracle2 | grep Bracketing"
     ],
     "language": "python",
     "outputs": [
      {
       "output_type": "stream",
       "stream": "stdout",
       "text": [
        "1424 : Length unmatch (7|8)\r\n",
        "Bracketing Recall         =  94.02\r\n",
        "Bracketing Precision      =  92.14\r\n",
        "Bracketing FMeasure       =  93.07\r\n",
        "Bracketing Recall         =  94.42\r\n",
        "Bracketing Precision      =  92.71\r\n",
        "Bracketing FMeasure       =  93.56\r\n"
       ]
      }
     ],
     "prompt_number": 102
    },
    {
     "cell_type": "code",
     "collapsed": false,
     "input": [
      "!{EVAL}/EVALB/evalb -p ../evalb/EVALB/COLLINS.prm  /tmp/dev.withtop  /tmp/output | grep Bracketing"
     ],
     "language": "python",
     "outputs": [
      {
       "output_type": "stream",
       "stream": "stdout",
       "text": [
        "1424 : Length unmatch (7|8)\r\n"
       ]
      },
      {
       "output_type": "stream",
       "stream": "stdout",
       "text": [
        "Bracketing Recall         =  91.44\r\n",
        "Bracketing Precision      =  90.95\r\n",
        "Bracketing FMeasure       =  91.20\r\n",
        "Bracketing Recall         =  91.69\r\n",
        "Bracketing Precision      =  91.35\r\n",
        "Bracketing FMeasure       =  91.52\r\n"
       ]
      }
     ],
     "prompt_number": 249
    },
    {
     "cell_type": "code",
     "collapsed": false,
     "input": [
      "!{EVAL}/EVALB/evalb -p ../evalb/EVALB/COLLINS.prm  /tmp/dev.withtop  /tmp/output2 | grep Bracketing"
     ],
     "language": "python",
     "outputs": [
      {
       "output_type": "stream",
       "stream": "stdout",
       "text": [
        "1424 : Length unmatch (7|8)\r\n",
        "Bracketing Recall         =  91.34\r\n",
        "Bracketing Precision      =  90.72\r\n",
        "Bracketing FMeasure       =  91.03\r\n",
        "Bracketing Recall         =  91.75\r\n",
        "Bracketing Precision      =  91.25\r\n",
        "Bracketing FMeasure       =  91.49\r\n"
       ]
      }
     ],
     "prompt_number": 78
    },
    {
     "cell_type": "code",
     "collapsed": false,
     "input": [
      "!{EVAL}/EVALB/evalb -p ../evalb/EVALB/COLLINS.prm  /tmp/dev.withtop  /tmp/output3 | grep Bracketing"
     ],
     "language": "python",
     "outputs": [
      {
       "output_type": "stream",
       "stream": "stdout",
       "text": [
        "1424 : Length unmatch (7|8)\r\n",
        "Bracketing Recall         =  91.28\r\n",
        "Bracketing Precision      =  90.70\r\n",
        "Bracketing FMeasure       =  90.99\r\n",
        "Bracketing Recall         =  91.67\r\n",
        "Bracketing Precision      =  91.22\r\n",
        "Bracketing FMeasure       =  91.44\r\n"
       ]
      }
     ],
     "prompt_number": 85
    },
    {
     "cell_type": "code",
     "collapsed": false,
     "input": [
      "!{EVAL}/EVALB/evalb -p ../evalb/EVALB/COLLINS.prm  /tmp/dev.withtop  /tmp/cheating | grep Bracketing"
     ],
     "language": "python",
     "outputs": [
      {
       "output_type": "stream",
       "stream": "stdout",
       "text": [
        "69 : Words unmatch (WCRS/Boston|WCRS\\/Boston)\r\n",
        "397 : Words unmatch (3/4|3\\/4)\r\n",
        "398 : Words unmatch (1/4|1\\/4)\r\n",
        "644 : Words unmatch (and/or|and\\/or)\r\n",
        "784 : Words unmatch (7/8|7\\/8)\r\n",
        "793 : Words unmatch (3/4|3\\/4)\r\n",
        "812 : Words unmatch (1/2|1\\/2)\r\n",
        "813 : Words unmatch (1/2|1\\/2)\r\n",
        "847 : Words unmatch (1/4|1\\/4)\r\n",
        "849 : Words unmatch (1/4|1\\/4)\r\n",
        "850 : Words unmatch (3/4|3\\/4)\r\n",
        "853 : Words unmatch (3/4|3\\/4)\r\n",
        "939 : Words unmatch (1/2|1\\/2)\r\n",
        "940 : Words unmatch (3/4|3\\/4)\r\n",
        "945 : Words unmatch (3/4|3\\/4)\r\n",
        "961 : Words unmatch (3/4|3\\/4)\r\n",
        "978 : Words unmatch (19/32|19\\/32)\r\n",
        "980 : Words unmatch (3/32|3\\/32)\r\n",
        "991 : Words unmatch (1/2|1\\/2)\r\n",
        "997 : Words unmatch (3/4|3\\/4)\r\n",
        "998 : Words unmatch (3/4|3\\/4)\r\n",
        "1000 : Words unmatch (24/32|24\\/32)\r\n",
        "1002 : Words unmatch (4/32|4\\/32)\r\n",
        "1003 : Words unmatch (1/4|1\\/4)\r\n",
        "1004 : Words unmatch (5/32|5\\/32)\r\n",
        "1010 : Words unmatch (1/4|1\\/4)\r\n",
        "1016 : Words unmatch (3/4|3\\/4)\r\n",
        "1017 : Words unmatch (1/4|1\\/4)\r\n",
        "1018 : Words unmatch (1/8|1\\/8)\r\n",
        "1019 : Words unmatch (1/4|1\\/4)\r\n",
        "1252 : Words unmatch (1/2|1\\/2)\r\n",
        "1254 : Words unmatch (3/4|3\\/4)\r\n",
        "1259 : Words unmatch (3/4|3\\/4)\r\n",
        "1269 : Words unmatch (5/8|5\\/8)\r\n",
        "1270 : Words unmatch (1/2|1\\/2)\r\n",
        "1278 : Words unmatch (6/2|6\\/2)\r\n",
        "Bracketing Recall         =  97.77\r\n",
        "Bracketing Precision      =  97.54\r\n",
        "Bracketing FMeasure       =  97.65\r\n",
        "Bracketing Recall         =  97.84\r\n",
        "Bracketing Precision      =  97.58\r\n",
        "Bracketing FMeasure       =  97.71\r\n"
       ]
      }
     ],
     "prompt_number": 184
    },
    {
     "cell_type": "code",
     "collapsed": false,
     "input": [
      "!{EVAL}/EVALB/evalb -p ../evalb/EVALB/COLLINS.prm  /tmp/dev.withtop  /tmp/cheating2 | grep Bracketing"
     ],
     "language": "python",
     "outputs": [
      {
       "output_type": "stream",
       "stream": "stdout",
       "text": [
        "69 : Words unmatch (WCRS/Boston|WCRS\\/Boston)\r\n",
        "397 : Words unmatch (3/4|3\\/4)\r\n",
        "398 : Words unmatch (1/4|1\\/4)\r\n",
        "644 : Words unmatch (and/or|and\\/or)\r\n",
        "784 : Words unmatch (7/8|7\\/8)\r\n",
        "793 : Words unmatch (3/4|3\\/4)\r\n",
        "812 : Words unmatch (1/2|1\\/2)\r\n",
        "813 : Words unmatch (1/2|1\\/2)\r\n",
        "847 : Words unmatch (1/4|1\\/4)\r\n",
        "849 : Words unmatch (1/4|1\\/4)\r\n",
        "850 : Words unmatch (3/4|3\\/4)\r\n",
        "853 : Words unmatch (3/4|3\\/4)\r\n",
        "939 : Words unmatch (1/2|1\\/2)\r\n",
        "940 : Words unmatch (3/4|3\\/4)\r\n",
        "945 : Words unmatch (3/4|3\\/4)\r\n",
        "961 : Words unmatch (3/4|3\\/4)\r\n",
        "978 : Words unmatch (19/32|19\\/32)\r\n",
        "980 : Words unmatch (3/32|3\\/32)\r\n",
        "991 : Words unmatch (1/2|1\\/2)\r\n",
        "997 : Words unmatch (3/4|3\\/4)\r\n",
        "998 : Words unmatch (3/4|3\\/4)\r\n",
        "1000 : Words unmatch (24/32|24\\/32)\r\n",
        "1002 : Words unmatch (4/32|4\\/32)\r\n",
        "1003 : Words unmatch (1/4|1\\/4)\r\n",
        "1004 : Words unmatch (5/32|5\\/32)\r\n",
        "1010 : Words unmatch (1/4|1\\/4)\r\n",
        "1016 : Words unmatch (3/4|3\\/4)\r\n",
        "1017 : Words unmatch (1/4|1\\/4)\r\n",
        "1018 : Words unmatch (1/8|1\\/8)\r\n",
        "1019 : Words unmatch (1/4|1\\/4)\r\n",
        "1252 : Words unmatch (1/2|1\\/2)\r\n",
        "1254 : Words unmatch (3/4|3\\/4)\r\n",
        "1259 : Words unmatch (3/4|3\\/4)\r\n",
        "1269 : Words unmatch (5/8|5\\/8)\r\n",
        "1270 : Words unmatch (1/2|1\\/2)\r\n",
        "1278 : Words unmatch (6/2|6\\/2)\r\n",
        "Bracketing Recall         =  95.85\r\n",
        "Bracketing Precision      =  95.85\r\n",
        "Bracketing FMeasure       =  95.85\r\n",
        "Bracketing Recall         =  95.93\r\n",
        "Bracketing Precision      =  95.97\r\n",
        "Bracketing FMeasure       =  95.95\r\n"
       ]
      }
     ],
     "prompt_number": 187
    },
    {
     "cell_type": "code",
     "collapsed": false,
     "input": [
      "!{EVAL}/EVALB/evalb -p ../evalb/EVALB/COLLINS.prm  /tmp/dev.withtop  /tmp/output_full | grep Bracketing"
     ],
     "language": "python",
     "outputs": [
      {
       "output_type": "stream",
       "stream": "stdout",
       "text": [
        "1424 : Length unmatch (7|8)\r\n",
        "Bracketing Recall         =  91.06\r\n",
        "Bracketing Precision      =  90.71\r\n",
        "Bracketing FMeasure       =  90.89\r\n",
        "Bracketing Recall         =  91.47\r\n",
        "Bracketing Precision      =  91.27\r\n",
        "Bracketing FMeasure       =  91.37\r\n"
       ]
      }
     ],
     "prompt_number": 198
    }
   ]
  }
 ]
}