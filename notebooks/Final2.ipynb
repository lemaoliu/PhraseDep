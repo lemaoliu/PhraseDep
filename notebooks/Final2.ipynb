{
 "metadata": {
  "name": ""
 },
 "nbformat": 3,
 "nbformat_minor": 0,
 "worksheets": [
  {
   "cells": [
    {
     "cell_type": "code",
     "collapsed": false,
     "input": [
      "DIR = \"/home/lingpenk/final/\"\n",
      "CODE = \"/home/srush/Projects/PhraseDep/src/\"\n",
      "EVAL = \"~/Projects/PhraseDep/evalb/\""
     ],
     "language": "python",
     "outputs": [],
     "prompt_number": 1
    },
    {
     "cell_type": "code",
     "collapsed": false,
     "input": [
      "import os, subprocess\n",
      "\n",
      "import matplotlib.pyplot as plt\n",
      "plt.style.use('ggplot')"
     ],
     "language": "python",
     "outputs": [],
     "prompt_number": 4
    },
    {
     "cell_type": "code",
     "collapsed": false,
     "input": [
      "import pandas\n",
      "import numpy as np "
     ],
     "language": "python",
     "outputs": [],
     "prompt_number": 7
    },
    {
     "cell_type": "code",
     "collapsed": false,
     "input": [
      "# cmd = \"{CODE}/parser \".format(**{\"CODE\":CODE, \"DIR\" : DIR})\n",
      "speed = []\n",
      "for i in range(5, 50, 5):\n",
      "    cmd = \"{CODE}/parser --sentence {DIR}/simple_headrule/parts --sentence_test  {DIR}/jack_proj_dev_full_labeled_tbttagged_parts --model /tmp/simple_noprune  --grammar {DIR}/simple_headrule/rules --test --limit {j} --lower_limit {i} --pruning \".format(**{\"CODE\":CODE, \"DIR\" : DIR, \"i\":i, \"j\" : i + 5})\n",
      "    out = subprocess.check_output([cmd], shell=True, stderr=subprocess.STDOUT)\n",
      "    speed.append(float(out.split(\"\\n\")[-2]))\n"
     ],
     "language": "python",
     "outputs": [],
     "prompt_number": 47
    },
    {
     "cell_type": "code",
     "collapsed": false,
     "input": [
      "print speed"
     ],
     "language": "python",
     "outputs": [
      {
       "output_type": "stream",
       "stream": "stdout",
       "text": [
        "[9587.26, 8365.64, 6978.43, 5542.68, 4571.21, 3925.45, 2924.25, 2551.37, 2196.06]\n"
       ]
      }
     ],
     "prompt_number": 48
    },
    {
     "cell_type": "code",
     "collapsed": false,
     "input": [
      "speed = np.array([9587.26, 8365.64, 6978.43, 5542.68, 4571.21, 3925.45, 2924.25, 2551.37, 2196.06])"
     ],
     "language": "python",
     "outputs": [],
     "prompt_number": 9
    },
    {
     "cell_type": "code",
     "collapsed": false,
     "input": [
      "index = np.arange(5, 50, 5)"
     ],
     "language": "python",
     "outputs": [],
     "prompt_number": 10
    },
    {
     "cell_type": "code",
     "collapsed": false,
     "input": [
      "df = pandas.DataFrame(speed, index=index)\n",
      "df.plot()"
     ],
     "language": "python",
     "outputs": [
      {
       "output_type": "pyout",
       "prompt_number": 14,
       "text": [
        "<matplotlib.axes._subplots.AxesSubplot at 0x7f30e8da6190>"
       ]
      }
     ],
     "prompt_number": 14
    }
   ]
  }
 ]
}